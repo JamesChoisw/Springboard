{
 "cells": [
  {
   "cell_type": "code",
   "execution_count": 1,
   "id": "943b9b88",
   "metadata": {},
   "outputs": [],
   "source": [
    "import numpy as np\n",
    "import pandas as pd\n",
    "import matplotlib.pyplot as plt\n",
    "import seaborn as sns\n",
    "from sklearn.preprocessing import MinMaxScaler\n",
    "from sklearn.model_selection import train_test_split, GridSearchCV\n",
    "from sklearn.linear_model import LogisticRegression\n",
    "from sklearn.ensemble import RandomForestClassifier\n",
    "from xgboost import XGBClassifier\n",
    "from sklearn.metrics import accuracy_score, recall_score, precision_score, f1_score, roc_auc_score\n",
    "from imblearn.over_sampling import SMOTE"
   ]
  },
  {
   "cell_type": "markdown",
   "id": "2360636d",
   "metadata": {},
   "source": [
    "## 1. Data Loading"
   ]
  },
  {
   "cell_type": "code",
   "execution_count": 2,
   "id": "2a26ee4c",
   "metadata": {},
   "outputs": [],
   "source": [
    "user_engagement = pd.read_csv('takehome_user_engagement.csv')\n",
    "users = pd.read_csv('takehome_users.csv', encoding='ISO-8859-1')"
   ]
  },
  {
   "cell_type": "code",
   "execution_count": 3,
   "id": "7baa4e18",
   "metadata": {},
   "outputs": [
    {
     "name": "stdout",
     "output_type": "stream",
     "text": [
      "            time_stamp  user_id  visited\n",
      "0  2014-04-22 03:53:30        1        1\n",
      "1  2013-11-15 03:45:04        2        1\n",
      "2  2013-11-29 03:45:04        2        1\n",
      "3  2013-12-09 03:45:04        2        1\n",
      "4  2013-12-25 03:45:04        2        1\n",
      "   object_id        creation_time               name  \\\n",
      "0          1  2014-04-22 03:53:30     Clausen August   \n",
      "1          2  2013-11-15 03:45:04      Poole Matthew   \n",
      "2          3  2013-03-19 23:14:52  Bottrill Mitchell   \n",
      "3          4  2013-05-21 08:09:28    Clausen Nicklas   \n",
      "4          5  2013-01-17 10:14:20          Raw Grace   \n",
      "\n",
      "                        email creation_source  last_session_creation_time  \\\n",
      "0    AugustCClausen@yahoo.com    GUEST_INVITE                1.398139e+09   \n",
      "1      MatthewPoole@gustr.com      ORG_INVITE                1.396238e+09   \n",
      "2  MitchellBottrill@gustr.com      ORG_INVITE                1.363735e+09   \n",
      "3   NicklasSClausen@yahoo.com    GUEST_INVITE                1.369210e+09   \n",
      "4          GraceRaw@yahoo.com    GUEST_INVITE                1.358850e+09   \n",
      "\n",
      "   opted_in_to_mailing_list  enabled_for_marketing_drip  org_id  \\\n",
      "0                         1                           0      11   \n",
      "1                         0                           0       1   \n",
      "2                         0                           0      94   \n",
      "3                         0                           0       1   \n",
      "4                         0                           0     193   \n",
      "\n",
      "   invited_by_user_id  \n",
      "0             10803.0  \n",
      "1               316.0  \n",
      "2              1525.0  \n",
      "3              5151.0  \n",
      "4              5240.0  \n"
     ]
    }
   ],
   "source": [
    "print(user_engagement.head())\n",
    "print(users.head())"
   ]
  },
  {
   "cell_type": "markdown",
   "id": "ac67f2d8",
   "metadata": {},
   "source": [
    "## 2. Data Wrangling"
   ]
  },
  {
   "cell_type": "code",
   "execution_count": 4,
   "id": "35a5b081",
   "metadata": {},
   "outputs": [
    {
     "name": "stdout",
     "output_type": "stream",
     "text": [
      "   object_id last_session_creation_time\n",
      "0          1        2014-04-22 03:53:30\n",
      "1          2        2014-03-31 03:45:04\n",
      "2          3        2013-03-19 23:14:52\n",
      "3          4        2013-05-22 08:09:28\n",
      "4          5        2013-01-22 10:14:20\n"
     ]
    },
    {
     "name": "stderr",
     "output_type": "stream",
     "text": [
      "C:\\Users\\james\\anaconda3\\Lib\\site-packages\\pandas\\core\\tools\\datetimes.py:557: RuntimeWarning: invalid value encountered in cast\n",
      "  arr, tz_parsed = tslib.array_with_unit_to_datetime(arg, unit, errors=errors)\n"
     ]
    }
   ],
   "source": [
    "# Convert 'last_session_creation_time' from Unix timestamp to datetime format\n",
    "users['last_session_creation_time'] = pd.to_datetime(users['last_session_creation_time'], unit='s')\n",
    "print(users[['object_id', 'last_session_creation_time']].head())"
   ]
  },
  {
   "cell_type": "code",
   "execution_count": 5,
   "id": "cc2eaf72",
   "metadata": {},
   "outputs": [
    {
     "name": "stdout",
     "output_type": "stream",
     "text": [
      "<class 'pandas.core.frame.DataFrame'>\n",
      "RangeIndex: 207917 entries, 0 to 207916\n",
      "Data columns (total 3 columns):\n",
      " #   Column      Non-Null Count   Dtype \n",
      "---  ------      --------------   ----- \n",
      " 0   time_stamp  207917 non-null  object\n",
      " 1   user_id     207917 non-null  int64 \n",
      " 2   visited     207917 non-null  int64 \n",
      "dtypes: int64(2), object(1)\n",
      "memory usage: 4.8+ MB\n"
     ]
    }
   ],
   "source": [
    "user_engagement.info()"
   ]
  },
  {
   "cell_type": "code",
   "execution_count": 6,
   "id": "4aa5b0ab",
   "metadata": {},
   "outputs": [
    {
     "name": "stdout",
     "output_type": "stream",
     "text": [
      "<class 'pandas.core.frame.DataFrame'>\n",
      "RangeIndex: 12000 entries, 0 to 11999\n",
      "Data columns (total 10 columns):\n",
      " #   Column                      Non-Null Count  Dtype         \n",
      "---  ------                      --------------  -----         \n",
      " 0   object_id                   12000 non-null  int64         \n",
      " 1   creation_time               12000 non-null  object        \n",
      " 2   name                        12000 non-null  object        \n",
      " 3   email                       12000 non-null  object        \n",
      " 4   creation_source             12000 non-null  object        \n",
      " 5   last_session_creation_time  8823 non-null   datetime64[ns]\n",
      " 6   opted_in_to_mailing_list    12000 non-null  int64         \n",
      " 7   enabled_for_marketing_drip  12000 non-null  int64         \n",
      " 8   org_id                      12000 non-null  int64         \n",
      " 9   invited_by_user_id          6417 non-null   float64       \n",
      "dtypes: datetime64[ns](1), float64(1), int64(4), object(4)\n",
      "memory usage: 937.6+ KB\n"
     ]
    }
   ],
   "source": [
    "users.info()"
   ]
  },
  {
   "cell_type": "code",
   "execution_count": 7,
   "id": "258ad5fc",
   "metadata": {},
   "outputs": [
    {
     "name": "stdout",
     "output_type": "stream",
     "text": [
      "time_stamp    0\n",
      "user_id       0\n",
      "visited       0\n",
      "dtype: int64\n",
      "object_id                        0\n",
      "creation_time                    0\n",
      "name                             0\n",
      "email                            0\n",
      "creation_source                  0\n",
      "last_session_creation_time    3177\n",
      "opted_in_to_mailing_list         0\n",
      "enabled_for_marketing_drip       0\n",
      "org_id                           0\n",
      "invited_by_user_id            5583\n",
      "dtype: int64\n"
     ]
    }
   ],
   "source": [
    "print(user_engagement.isnull().sum())\n",
    "print(users.isnull().sum())"
   ]
  },
  {
   "cell_type": "code",
   "execution_count": 8,
   "id": "9d90b084",
   "metadata": {},
   "outputs": [],
   "source": [
    "# Fill missing last session times with the user's creation time as a placeholder\n",
    "users['last_session_creation_time'].fillna(users['creation_time'], inplace=True)\n",
    "# Fill missing invited_by_user_id with 0 or another identifier\n",
    "users['invited_by_user_id'].fillna(0, inplace=True)"
   ]
  },
  {
   "cell_type": "code",
   "execution_count": 9,
   "id": "56d23175",
   "metadata": {},
   "outputs": [
    {
     "name": "stdout",
     "output_type": "stream",
     "text": [
      "   user_id  adopted_user\n",
      "0        1             0\n",
      "1        2             1\n",
      "2        3             0\n",
      "3        4             0\n",
      "4        5             0\n"
     ]
    }
   ],
   "source": [
    "# Convert the 'time_stamp' to datetime format\n",
    "user_engagement['time_stamp'] = pd.to_datetime(user_engagement['time_stamp'])\n",
    "\n",
    "# Sort the data by user_id and time_stamp\n",
    "user_engagement = user_engagement.sort_values(['user_id', 'time_stamp'])\n",
    "\n",
    "# flagging for adopted users\n",
    "def flag_adopted(dates):\n",
    "    # Check if there are at least three logins in a 7-day window\n",
    "    for i in range(len(dates) - 2):\n",
    "        if (dates[i + 2] - dates[i]).days <= 7:\n",
    "            return 1\n",
    "    return 0\n",
    "\n",
    "adoption_status = user_engagement.groupby('user_id')['time_stamp'].apply(lambda x: flag_adopted(x.tolist()))\n",
    "adoption_status = adoption_status.reset_index().rename(columns={'time_stamp': 'adopted_user'})\n",
    "print(adoption_status.head())"
   ]
  },
  {
   "cell_type": "markdown",
   "id": "5041f3f7",
   "metadata": {},
   "source": [
    "## 3. EDA"
   ]
  },
  {
   "cell_type": "code",
   "execution_count": 10,
   "id": "d84c5e68",
   "metadata": {},
   "outputs": [
    {
     "data": {
      "image/png": "[encoded data removed]",
      "text/plain": [
       "<Figure size 600x600 with 1 Axes>"
      ]
     },
     "metadata": {},
     "output_type": "display_data"
    }
   ],
   "source": [
    "adopted_counts = adoption_status['adopted_user'].value_counts()\n",
    "\n",
    "plt.figure(figsize=(6, 6))\n",
    "plt.pie(adopted_counts, labels=['Non-Adopted', 'Adopted'], autopct='%1.1f%%', startangle=140, colors=['#ff9999','#66b3ff'])\n",
    "plt.title('Proportion of Adopted vs. Non-Adopted Users')\n",
    "plt.show()\n"
   ]
  },
  {
   "cell_type": "markdown",
   "id": "807ca139",
   "metadata": {},
   "source": [
    "___There is an imbalance between the major and minor classes, so balancing will be necessary in subsequent steps.___"
   ]
  },
  {
   "cell_type": "markdown",
   "id": "594fb45a",
   "metadata": {},
   "source": [
    "## 4. Feature Engineering"
   ]
  },
  {
   "cell_type": "code",
   "execution_count": 11,
   "id": "7f4b2251",
   "metadata": {
    "scrolled": true
   },
   "outputs": [
    {
     "name": "stdout",
     "output_type": "stream",
     "text": [
      "   user_id       creation_time               name                       email  \\\n",
      "0        1 2014-04-22 03:53:30     Clausen August    AugustCClausen@yahoo.com   \n",
      "1        2 2013-11-15 03:45:04      Poole Matthew      MatthewPoole@gustr.com   \n",
      "2        3 2013-03-19 23:14:52  Bottrill Mitchell  MitchellBottrill@gustr.com   \n",
      "3        4 2013-05-21 08:09:28    Clausen Nicklas   NicklasSClausen@yahoo.com   \n",
      "4        5 2013-01-17 10:14:20          Raw Grace          GraceRaw@yahoo.com   \n",
      "\n",
      "  last_session_creation_time  opted_in_to_mailing_list  \\\n",
      "0        2014-04-22 03:53:30                         1   \n",
      "1        2014-03-31 03:45:04                         0   \n",
      "2        2013-03-19 23:14:52                         0   \n",
      "3        2013-05-22 08:09:28                         0   \n",
      "4        2013-01-22 10:14:20                         0   \n",
      "\n",
      "   enabled_for_marketing_drip  org_id  invited_by_user_id  adopted_user  \\\n",
      "0                           0      11             10803.0           0.0   \n",
      "1                           0       1               316.0           1.0   \n",
      "2                           0      94              1525.0           0.0   \n",
      "3                           0       1              5151.0           0.0   \n",
      "4                           0     193              5240.0           0.0   \n",
      "\n",
      "   days_since_last_login  creation_source_ORG_INVITE  \\\n",
      "0                   3840                           0   \n",
      "1                   3862                           1   \n",
      "2                   4238                           1   \n",
      "3                   4175                           0   \n",
      "4                   4295                           0   \n",
      "\n",
      "   creation_source_PERSONAL_PROJECTS  creation_source_SIGNUP  \\\n",
      "0                                  0                       0   \n",
      "1                                  0                       0   \n",
      "2                                  0                       0   \n",
      "3                                  0                       0   \n",
      "4                                  0                       0   \n",
      "\n",
      "   creation_source_SIGNUP_GOOGLE_AUTH  \n",
      "0                                   0  \n",
      "1                                   0  \n",
      "2                                   0  \n",
      "3                                   0  \n",
      "4                                   0  \n"
     ]
    }
   ],
   "source": [
    "users.rename(columns={'object_id': 'user_id'}, inplace=True)\n",
    "\n",
    "# Merge adoption status with user data\n",
    "users = users.merge(adoption_status, on='user_id', how='left')\n",
    "users['adopted_user'] = users['adopted_user'].fillna(0)  # Non-adopted users will have NaN, set to 0\n",
    "\n",
    "# Convert 'creation_time' to datetime format\n",
    "users['creation_time'] = pd.to_datetime(users['creation_time'])\n",
    "\n",
    "# Feature: Last login time\n",
    "users['last_session_creation_time'] = pd.to_datetime(users['last_session_creation_time'], unit='s')\n",
    "users['days_since_last_login'] = (pd.Timestamp.now() - users['last_session_creation_time']).dt.days\n",
    "\n",
    "# One-hot encoding for categorical variables\n",
    "users = pd.get_dummies(users, columns=['creation_source'], drop_first=True)\n",
    "\n",
    "print(users.head())"
   ]
  },
  {
   "cell_type": "code",
   "execution_count": 13,
   "id": "a10bb633",
   "metadata": {
    "scrolled": true
   },
   "outputs": [
    {
     "name": "stdout",
     "output_type": "stream",
     "text": [
      "   user_id       creation_time               name                       email  \\\n",
      "0        1 2014-04-22 03:53:30     Clausen August    AugustCClausen@yahoo.com   \n",
      "1        2 2013-11-15 03:45:04      Poole Matthew      MatthewPoole@gustr.com   \n",
      "2        3 2013-03-19 23:14:52  Bottrill Mitchell  MitchellBottrill@gustr.com   \n",
      "3        4 2013-05-21 08:09:28    Clausen Nicklas   NicklasSClausen@yahoo.com   \n",
      "4        5 2013-01-17 10:14:20          Raw Grace          GraceRaw@yahoo.com   \n",
      "\n",
      "  last_session_creation_time  opted_in_to_mailing_list  \\\n",
      "0        2014-04-22 03:53:30                       1.0   \n",
      "1        2014-03-31 03:45:04                       0.0   \n",
      "2        2013-03-19 23:14:52                       0.0   \n",
      "3        2013-05-22 08:09:28                       0.0   \n",
      "4        2013-01-22 10:14:20                       0.0   \n",
      "\n",
      "   enabled_for_marketing_drip    org_id  invited_by_user_id  adopted_user  \\\n",
      "0                         0.0  0.026442            0.900325           0.0   \n",
      "1                         0.0  0.002404            0.026336           1.0   \n",
      "2                         0.0  0.225962            0.127094           0.0   \n",
      "3                         0.0  0.002404            0.429286           0.0   \n",
      "4                         0.0  0.463942            0.436703           0.0   \n",
      "\n",
      "   days_since_last_login  creation_source_ORG_INVITE  \\\n",
      "0               0.061141                           0   \n",
      "1               0.091033                           1   \n",
      "2               0.601902                           1   \n",
      "3               0.516304                           0   \n",
      "4               0.679348                           0   \n",
      "\n",
      "   creation_source_PERSONAL_PROJECTS  creation_source_SIGNUP  \\\n",
      "0                                  0                       0   \n",
      "1                                  0                       0   \n",
      "2                                  0                       0   \n",
      "3                                  0                       0   \n",
      "4                                  0                       0   \n",
      "\n",
      "   creation_source_SIGNUP_GOOGLE_AUTH  \n",
      "0                                   0  \n",
      "1                                   0  \n",
      "2                                   0  \n",
      "3                                   0  \n",
      "4                                   0  \n"
     ]
    }
   ],
   "source": [
    "# Identify numerical columns to scale\n",
    "numeric_columns = ['opted_in_to_mailing_list', 'enabled_for_marketing_drip', \n",
    "                   'org_id', 'invited_by_user_id', 'adopted_user', \n",
    "                   'days_since_last_login']\n",
    "\n",
    "# Create a MinMaxScaler object\n",
    "scaler = MinMaxScaler()\n",
    "\n",
    "# Scale the numerical variables to the range of 0 to 1\n",
    "users[numeric_columns] = scaler.fit_transform(users[numeric_columns])\n",
    "\n",
    "# Display the scaled DataFrame\n",
    "print(users.head())"
   ]
  },
  {
   "cell_type": "markdown",
   "id": "cea5e7ed",
   "metadata": {},
   "source": [
    "## 5. Modeling and Model Selection"
   ]
  },
  {
   "cell_type": "code",
   "execution_count": 14,
   "id": "f21ce379",
   "metadata": {},
   "outputs": [
    {
     "name": "stdout",
     "output_type": "stream",
     "text": [
      "                 Model                         Best Parameters  Accuracy  \\\n",
      "0  Logistic Regression              {'C': 10, 'max_iter': 100}  0.690833   \n",
      "1        Random Forest  {'max_depth': 10, 'n_estimators': 200}  0.886667   \n",
      "2              XGBoost   {'max_depth': 7, 'n_estimators': 100}  0.867222   \n",
      "\n",
      "   Recall  Precision  F1 Score   ROC AUC  \n",
      "0   0.832   0.287889  0.427763  0.838078  \n",
      "1   0.706   0.574919  0.633752  0.859093  \n",
      "2   0.722   0.515714  0.601667  0.863621  \n"
     ]
    }
   ],
   "source": [
    "# Split the data\n",
    "X = users.drop(columns=['user_id', 'name', 'email', 'creation_time', 'org_id', 'invited_by_user_id', 'last_session_creation_time', 'adopted_user'])\n",
    "y = users['adopted_user']\n",
    "\n",
    "# Split into training and test sets\n",
    "X_train, X_test, y_train, y_test = train_test_split(X, y, test_size=0.3, random_state=42)\n",
    "\n",
    "# Apply SMOTE to balance the classes in the training set\n",
    "smote = SMOTE(random_state=42)\n",
    "X_train_smote, y_train_smote = smote.fit_resample(X_train, y_train)\n",
    "\n",
    "# Define models and hyperparameter grids\n",
    "models = {\n",
    "    'Logistic Regression': LogisticRegression(),\n",
    "    'Random Forest': RandomForestClassifier(),\n",
    "    'XGBoost': XGBClassifier(eval_metric='logloss')\n",
    "}\n",
    "\n",
    "param_grids = {\n",
    "    'Logistic Regression': {'C': [0.1, 1, 10, 50], 'max_iter': [100, 200, 500, 1000]},\n",
    "    'Random Forest': {'n_estimators': [50, 100, 200, 300], 'max_depth': [None, 10, 20, 30]},\n",
    "    'XGBoost': {'n_estimators': [50, 100, 200, 300], 'max_depth': [3, 5, 7, 10]}\n",
    "}\n",
    "\n",
    "# To store model performance\n",
    "performance_metrics = []\n",
    "\n",
    "# Hyperparameter tuning and performance evaluation\n",
    "for model_name, model in models.items():\n",
    "    grid_search = GridSearchCV(model, param_grids[model_name], cv=5, scoring='f1', n_jobs=-1)\n",
    "    grid_search.fit(X_train_smote, y_train_smote)\n",
    "    \n",
    "    # Best model from grid search\n",
    "    best_model = grid_search.best_estimator_\n",
    "    \n",
    "    # Predictions\n",
    "    y_pred = best_model.predict(X_test)\n",
    "    y_pred_proba = best_model.predict_proba(X_test)[:, 1] \n",
    "    \n",
    "    # Evaluate performance\n",
    "    metrics = {\n",
    "        'Model': model_name,\n",
    "        'Best Parameters': grid_search.best_params_,\n",
    "        'Accuracy': accuracy_score(y_test, y_pred),\n",
    "        'Recall': recall_score(y_test, y_pred),\n",
    "        'Precision': precision_score(y_test, y_pred),\n",
    "        'F1 Score': f1_score(y_test, y_pred),\n",
    "        'ROC AUC': roc_auc_score(y_test, y_pred_proba)  \n",
    "    }\n",
    "    \n",
    "    performance_metrics.append(metrics)\n",
    "\n",
    "# Create a DataFrame with the results\n",
    "performance_df = pd.DataFrame(performance_metrics)\n",
    "print(performance_df)\n"
   ]
  },
  {
   "cell_type": "markdown",
   "id": "354e3d64",
   "metadata": {},
   "source": [
    "___Based on the provided metrics, Random Forest seems to be the best choice for your model selection. It has the highest accuracy, a reasonable recall, and the best precision among the models tested, indicating a good balance between identifying adopted users and minimizing false positives. If capturing all adopted users is critical for the application, we might consider sticking with Random Forest. However, if we are focused primarily on recall and are okay with a higher number of false positives, Logistic Regression may also be considered, but its precision issues could be a concern.___"
   ]
  },
  {
   "cell_type": "code",
   "execution_count": 15,
   "id": "7ba36118",
   "metadata": {},
   "outputs": [
    {
     "name": "stdout",
     "output_type": "stream",
     "text": [
      "                              Feature  Importance\n",
      "2               days_since_last_login    0.964628\n",
      "4   creation_source_PERSONAL_PROJECTS    0.016216\n",
      "1          enabled_for_marketing_drip    0.005579\n",
      "0            opted_in_to_mailing_list    0.004653\n",
      "5              creation_source_SIGNUP    0.003386\n",
      "3          creation_source_ORG_INVITE    0.002855\n",
      "6  creation_source_SIGNUP_GOOGLE_AUTH    0.002683\n"
     ]
    },
    {
     "data": {
      "text/plain": [
       "Text(0, 0.5, 'Feature')"
      ]
     },
     "execution_count": 15,
     "metadata": {},
     "output_type": "execute_result"
    },
    {
     "data": {
      "image/png": "[encoded data removed]",
      "text/plain": [
       "<Figure size 1200x600 with 1 Axes>"
      ]
     },
     "metadata": {},
     "output_type": "display_data"
    }
   ],
   "source": [
    "rf_model = RandomForestClassifier(max_depth=10, n_estimators=200, random_state=42)\n",
    "\n",
    "rf_model.fit(X_train_smote, y_train_smote)\n",
    "\n",
    "# Get feature importances\n",
    "importances = rf_model.feature_importances_\n",
    "\n",
    "feature_importance_df = pd.DataFrame({\n",
    "    'Feature': X_train_smote.columns,\n",
    "    'Importance': importances\n",
    "})\n",
    "\n",
    "# Sort the DataFrame by importance\n",
    "feature_importance_df = feature_importance_df.sort_values(by='Importance', ascending=False)\n",
    "print(feature_importance_df)\n",
    "\n",
    "plt.figure(figsize=(12, 6))\n",
    "sns.barplot(data=feature_importance_df, x='Importance', y='Feature', palette='viridis')\n",
    "plt.title('Feature Importance for Random Forest Model')\n",
    "plt.xlabel('Importance')\n",
    "plt.ylabel('Feature')"
   ]
  },
  {
   "cell_type": "markdown",
   "id": "2940d0a2",
   "metadata": {},
   "source": [
    "___The overwhelming importance of \"days_since_last_login\" suggests that focusing on user engagement metrics could be key to improving adoption rates. Consider strategies to increase user engagement, such as reminders or targeted marketing for users who haven’t logged in recently.___"
   ]
  }
 ],
 "metadata": {
  "kernelspec": {
   "display_name": "Python 3 (ipykernel)",
   "language": "python",
   "name": "python3"
  },
  "language_info": {
   "codemirror_mode": {
    "name": "ipython",
    "version": 3
   },
   "file_extension": ".py",
   "mimetype": "text/x-python",
   "name": "python",
   "nbconvert_exporter": "python",
   "pygments_lexer": "ipython3",
   "version": "3.11.7"
  }
 },
 "nbformat": 4,
 "nbformat_minor": 5
}
